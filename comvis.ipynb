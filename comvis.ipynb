{
 "cells": [
  {
   "cell_type": "code",
   "execution_count": 1,
   "metadata": {},
   "outputs": [],
   "source": [
    "import cv2\n",
    "import matplotlib.pyplot as plt\n",
    "import PIL\n",
    "import numpy as np\n",
    "import colorsys\n",
    "import pandas as pd\n",
    "from PIL import Image\n",
    "from sklearn.model_selection import train_test_split\n",
    "from sklearn.tree import DecisionTreeClassifier\n",
    "from sklearn.metrics import accuracy_score\n",
    "from sklearn.ensemble import RandomForestClassifier\n",
    "from sklearn.neighbors import KNeighborsClassifier"
   ]
  },
  {
   "cell_type": "code",
   "execution_count": 9,
   "metadata": {},
   "outputs": [],
   "source": [
    "img = cv2.imread(\"../dataset/data_tes/IMG_9884.png\")\n",
    "img = cv2.resize(img, (300,200))\n",
    "cv2.imshow(\"Gambar Asli\", img)\n",
    "cv2.waitKey(0)\n",
    "cv2.destroyAllWindows()"
   ]
  },
  {
   "cell_type": "code",
   "execution_count": 10,
   "metadata": {},
   "outputs": [
    {
     "data": {
      "image/png": "[encoded data removed]",
      "text/plain": [
       "<Figure size 792x432 with 2 Axes>"
      ]
     },
     "metadata": {},
     "output_type": "display_data"
    }
   ],
   "source": [
    "#Median Filter\n",
    "#diubah ke grayscale terlebih dahulu \n",
    "image2 = cv2.cvtColor(img, cv2.COLOR_BGR2GRAY) \n",
    "figure_size = 9\n",
    "new_image = cv2.medianBlur(image2, figure_size)\n",
    "plt.figure(figsize=(11,6))\n",
    "plt.subplot(121), plt.imshow(image2, cmap='gray'),plt.title('Original')\n",
    "plt.xticks([]), plt.yticks([])\n",
    "plt.subplot(122), plt.imshow(new_image, cmap='gray'),plt.title('Median Filter')\n",
    "plt.xticks([]), plt.yticks([])\n",
    "plt.show()"
   ]
  },
  {
   "cell_type": "code",
   "execution_count": 11,
   "metadata": {},
   "outputs": [
    {
     "name": "stderr",
     "output_type": "stream",
     "text": [
      "C:\\Users\\ACER\\AppData\\Local\\Temp/ipykernel_8196/189725527.py:11: DeprecationWarning: `np.bool` is a deprecated alias for the builtin `bool`. To silence this warning, use `bool` by itself. Doing this will not modify any behavior and is safe. If you specifically wanted the numpy scalar type, use `np.bool_` here.\n",
      "Deprecated in NumPy 1.20; for more details and guidance: https://numpy.org/devdocs/release/1.20.0-notes.html#deprecations\n",
      "  output[mask.astype(np.bool), :] = 0\n"
     ]
    },
    {
     "data": {
      "text/plain": [
       "<function destroyAllWindows>"
      ]
     },
     "execution_count": 11,
     "metadata": {},
     "output_type": "execute_result"
    }
   ],
   "source": [
    "grayscaled = cv2.cvtColor(img, cv2.COLOR_RGB2GRAY)\n",
    "_, grayscaled = cv2.threshold(grayscaled, 10, 255, cv2.THRESH_BINARY)\n",
    "contours, _ = cv2.findContours(grayscaled, cv2.RETR_EXTERNAL, cv2.CHAIN_APPROX_NONE)\n",
    "\n",
    "img_copy = img.copy()\n",
    "cv2.drawContours(image=img_copy, contours=contours, contourIdx=-1, color=(0, 255, 0), thickness=2, lineType=cv2.LINE_AA)\n",
    "\n",
    "mask = np.ones(grayscaled.shape)\n",
    "mask = cv2.drawContours(mask, contours, -1, 0, cv2.FILLED)\n",
    "output = img.copy()\n",
    "output[mask.astype(np.bool), :] = 0\n",
    "out = np.zeros_like(img) # Extract out the object and place into output image\n",
    "out[mask == 0] = img[mask == 0]\n",
    "\n",
    "img_hsv = cv2.cvtColor(img, cv2.COLOR_RGB2HSV)\n",
    "mask2 = np.zeros(grayscaled.shape, np.uint8)\n",
    "cv2.drawContours(mask2, contours, -1, 255, -1)\n",
    "mean = cv2.mean(img, mask=mask2)[:3]\n",
    "boolmask = np.bool_(mask2)\n",
    "values = img[boolmask]\n",
    "\n",
    "def hsv2rgb(h,s,v):\n",
    "    return tuple(round(i * 255) for i in colorsys.hsv_to_rgb(h,s,v))\n",
    "\n",
    "# cv2_imshow(output)\n",
    "img_copy = cv2.resize(img_copy,(300,200))\n",
    "cv2.imshow(\"hasil\",img_copy)\n",
    "cv2.waitKey(0)\n",
    "cv2.destroyAllWindows\n",
    "# cv2_imshow(np.uint8(255 * mask))\n",
    "# cv2_imshow(out)"
   ]
  },
  {
   "cell_type": "code",
   "execution_count": 12,
   "metadata": {},
   "outputs": [
    {
     "name": "stdout",
     "output_type": "stream",
     "text": [
      "(84.18442069050252, 137.92333210468118, 126.41970758078389)\n",
      "[[104 104 104]\n",
      " [179 215 215]\n",
      " [166 202 202]\n",
      " ...\n",
      " [ 22  22  22]\n",
      " [ 22  22  22]\n",
      " [ 32  32  32]]\n"
     ]
    }
   ],
   "source": [
    "print(mean) # in BGR\n",
    "print(values) # in BGR"
   ]
  },
  {
   "cell_type": "code",
   "execution_count": 13,
   "metadata": {},
   "outputs": [],
   "source": [
    "titles = [\"Red\" , \"Green\", \"Blue\"]\n",
    "#Read In the File\n",
    "df = pd.read_csv(\"dataset.csv\")\n",
    "y = df[\"tingkatkematangan\"].values\n",
    "X = df.drop(\"tingkatkematangan\", axis=1).values\n",
    "X_train, X_test, y_train, y_test = train_test_split(X, y, test_size=0.20)"
   ]
  },
  {
   "cell_type": "code",
   "execution_count": 14,
   "metadata": {},
   "outputs": [
    {
     "name": "stdout",
     "output_type": "stream",
     "text": [
      "Red: 0.6825806451612905\n",
      "Green: 0.0\n",
      "Blue: 0.31741935483870964\n",
      "DecisionTree Classifier: 1.000\n",
      "\n"
     ]
    }
   ],
   "source": [
    "#Decision Tree Accuracy\n",
    "estimator = DecisionTreeClassifier()\n",
    "estimator.fit(X_train, y_train)\n",
    "importances = estimator.feature_importances_\n",
    "y_pred = estimator.predict(X_test)\n",
    "accuracy = accuracy_score(y_test, y_pred)\n",
    "for index in range(len(importances)):\n",
    "    print(titles[index] + \": \" + str(importances[index]))\n",
    "print('DecisionTree Classifier: {:.3f}\\n'.format(accuracy))"
   ]
  },
  {
   "cell_type": "code",
   "execution_count": 15,
   "metadata": {},
   "outputs": [
    {
     "name": "stdout",
     "output_type": "stream",
     "text": [
      "Red: 0.5340790196350186\n",
      "Green: 0.1620915563502366\n",
      "Blue: 0.3038294240147448\n",
      "DecisionTreeForest Classifier: 0.929\n",
      "\n"
     ]
    }
   ],
   "source": [
    "#Decision Tree Forests Accuracy\n",
    "Xf_train, Xf_test, yf_train, yf_test = train_test_split(X, y, test_size=0.20,)\n",
    "rf = RandomForestClassifier(n_estimators=35,random_state=2)\n",
    "rf.fit(Xf_train, yf_train)\n",
    "importancesf = rf.feature_importances_\n",
    "y_predF = rf.predict(Xf_test) \n",
    "accuracyF = accuracy_score(yf_test, y_predF)\n",
    "for index in range(len(importancesf)):\n",
    "    print(titles[index] + \": \" + str(importancesf[index]))\n",
    "\n",
    "print('DecisionTreeForest Classifier: {:.3f}\\n'.format(accuracyF))"
   ]
  },
  {
   "cell_type": "code",
   "execution_count": 16,
   "metadata": {},
   "outputs": [
    {
     "name": "stdout",
     "output_type": "stream",
     "text": [
      "Accuracy wih KNN: 0.929\n"
     ]
    }
   ],
   "source": [
    "#K Nearest Neighbors Accuracy\n",
    "Xk_train, Xk_test, yk_train, yk_test = train_test_split(X, y, stratify=y, test_size=0.20)\n",
    "knn = KNeighborsClassifier(n_neighbors=7)\n",
    "knn.fit(X,y)\n",
    "print('Accuracy wih KNN: {:.3f}'.format(knn.score(Xk_test,yk_test)))"
   ]
  },
  {
   "cell_type": "code",
   "execution_count": 24,
   "metadata": {},
   "outputs": [
    {
     "data": {
      "text/plain": [
       "array([[5, 1],\n",
       "       [0, 8]], dtype=int64)"
      ]
     },
     "execution_count": 24,
     "metadata": {},
     "output_type": "execute_result"
    }
   ],
   "source": [
    "from sklearn import metrics\n",
    "y_predF = rf.predict(Xf_test) \n",
    "conf = metrics.confusion_matrix(yf_test, y_predF)\n",
    "conf"
   ]
  },
  {
   "cell_type": "code",
   "execution_count": 32,
   "metadata": {},
   "outputs": [],
   "source": [
    "def get_confusion_matrix(y_true, y_pred):\n",
    "    n_classes = len(np.unique(y_true))\n",
    "    conf = np.zeros((n_classes, n_classes))\n",
    "    for actual, pred in zip(y_true, y_pred):\n",
    "        conf[int(actual)][int(pred)] += 1\n",
    "    return conf.astype('int')"
   ]
  },
  {
   "cell_type": "code",
   "execution_count": 34,
   "metadata": {},
   "outputs": [
    {
     "data": {
      "text/plain": [
       "Text(0.5, 15.0, 'Predicted label')"
      ]
     },
     "execution_count": 34,
     "metadata": {},
     "output_type": "execute_result"
    },
    {
     "data": {
      "image/png": "[encoded data removed]",
      "text/plain": [
       "<Figure size 432x288 with 2 Axes>"
      ]
     },
     "metadata": {
      "needs_background": "light"
     },
     "output_type": "display_data"
    }
   ],
   "source": [
    "import itertools\n",
    "classes = [0, 1]\n",
    "# plot confusion matrix\n",
    "plt.imshow(conf, interpolation='nearest', cmap=plt.cm.Greens)\n",
    "plt.title(\"Confusion Matrix\")\n",
    "plt.colorbar()\n",
    "tick_marks = np.arange(len(classes))\n",
    "plt.xticks(tick_marks, classes)\n",
    "plt.yticks(tick_marks, classes)\n",
    "\n",
    "fmt = 'd'\n",
    "thresh = conf.max() / 2.\n",
    "for i, j in itertools.product(range(conf.shape[0]), range(conf.shape[1])):\n",
    "    plt.text(j, i, format(conf[i, j], fmt),\n",
    "             horizontalalignment=\"center\",\n",
    "             color=\"white\" if conf[i, j] > thresh else \"black\")\n",
    "\n",
    "plt.tight_layout()\n",
    "plt.ylabel('True label')\n",
    "plt.xlabel('Predicted label')"
   ]
  },
  {
   "cell_type": "code",
   "execution_count": 36,
   "metadata": {},
   "outputs": [],
   "source": [
    "# from the confusion matrix\n",
    "TP = true_pos = 8\n",
    "TN = true_neg = 5\n",
    "FP = false_pos = 1\n",
    "FN = false_neg = 0"
   ]
  },
  {
   "cell_type": "code",
   "execution_count": 37,
   "metadata": {},
   "outputs": [],
   "source": [
    "results = {}"
   ]
  },
  {
   "cell_type": "code",
   "execution_count": 38,
   "metadata": {},
   "outputs": [
    {
     "name": "stdout",
     "output_type": "stream",
     "text": [
      "ACC is  0.929\n"
     ]
    }
   ],
   "source": [
    "metric = \"ACC\"\n",
    "results[metric] = (TP + TN) / (TP + TN + FP + FN)\n",
    "print(f\"{metric} is {results[metric]: .3f}\")"
   ]
  }
 ],
 "metadata": {
  "interpreter": {
   "hash": "bd3bb1f87169cb58c471d07b42a81f234c7d56028bf0ba0ec349fcff4f2c061b"
  },
  "kernelspec": {
   "display_name": "Python 3.9.9 64-bit (windows store)",
   "language": "python",
   "name": "python3"
  },
  "language_info": {
   "codemirror_mode": {
    "name": "ipython",
    "version": 3
   },
   "file_extension": ".py",
   "mimetype": "text/x-python",
   "name": "python",
   "nbconvert_exporter": "python",
   "pygments_lexer": "ipython3",
   "version": "3.9.9"
  },
  "orig_nbformat": 4
 },
 "nbformat": 4,
 "nbformat_minor": 2
}
